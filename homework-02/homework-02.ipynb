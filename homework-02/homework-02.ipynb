{
 "cells": [
  {
   "cell_type": "markdown",
   "metadata": {},
   "source": [
    "**Author:** Noureddine IDALI\n",
    "**Date:** 2025-07-20\n",
    "\n",
    "**Note:** This notebook uses external tools that may require installation. Please see the `DEPENDENCIES.md` file in the root of this project for instructions."
   ]
  },
  {
   "cell_type": "markdown",
   "metadata": {},
   "source": [
    "# Homework #2"
   ]
  },
  {
   "cell_type": "markdown",
   "metadata": {},
   "source": [
    "## Setup\n",
    "First, we need to download the FASTA file for chr22 from build 38 of the human genome."
   ]
  },
  {
   "cell_type": "code",
   "execution_count": null,
   "metadata": {},
   "outputs": [],
   "source": [
    "!curl https://hgdownload.soe.ucsc.edu/goldenPath/hg38/chromosomes/chr22.fa.gz > chr22.fa.gz\n",
    "!gzip -d chr22.fa.gz"
   ]
  },
  {
   "cell_type": "markdown",
   "metadata": {},
   "source": [
    "### Question #1\n",
    "How many G or C nucleotides (the GC content) are there on chr22? Show your work by providing the command(s) you used."
   ]
  },
  {
   "cell_type": "code",
   "execution_count": 1,
   "metadata": {},
   "outputs": [
    {
     "name": "stdout",
     "output_type": "stream",
     "text": [
      "9160652\n"
     ]
    }
   ],
   "source": [
    "!grep -v '^>' chr22.fa | grep -io 'c' | wc -l"
   ]
  },
  {
   "cell_type": "code",
   "execution_count": 2,
   "metadata": {},
   "outputs": [
    {
     "name": "stdout",
     "output_type": "stream",
     "text": [
      "Calculate fractional GC content of nucleic acid sequences\n"
     ]
    }
   ],
   "source": [
    "!geecee  -sequence chr22.fa -outfile chr22.geecee"
   ]
  },
  {
   "cell_type": "markdown",
   "metadata": {},
   "source": [
    "### Question #2\n",
    "First read this tutorial on using `nano` (https://linuxize.com/post/how-to-use-nano-text-editor/). Nano is a text editor for Unix that allows you to create and edit text files. You can skip the installation section, as nano is already installed on malibu.  Using nano, you will add all of the commands from question 1 into a new file in nano and save it as `gc_content.sh`.  Once saved, you have created your first shell script.  A shell script is a series of one or more Unix commands that can be run as an automated \"recipe\".  After being saved, you can run the shell script by typing `bash gc_content.sh` on the command line.  Create the script, run it, and provide both the command you ran and the output."
   ]
  },
  {
   "cell_type": "code",
   "execution_count": 3,
   "metadata": {},
   "outputs": [
    {
     "name": "stdout",
     "output_type": "stream",
     "text": [
      "Calculate fractional GC content of nucleic acid sequences\n"
     ]
    }
   ],
   "source": [
    "!bash gc_content.sh"
   ]
  },
  {
   "cell_type": "markdown",
   "metadata": {},
   "source": [
    "### Question #3\n",
    "Recall question #8 from Homework 1.  Create a UNIX pipeline using `sort` and `uniq` that answers it with a *single* command. Refer to the slides at the end of the \"Pattern searching in the human genome\" deck for a brief tutorial on using `sort` and `uniq`. There are also many examples of this online.\n",
    "Show your work by providing the *single* command you used."
   ]
  },
  {
   "cell_type": "code",
   "execution_count": 5,
   "metadata": {},
   "outputs": [
    {
     "name": "stdout",
     "output_type": "stream",
     "text": [
      "  64929 1\n",
      "  26672 10\n",
      "  42275 11\n",
      "  42166 12\n",
      "  10435 13\n",
      "  24134 14\n",
      "  26046 15\n",
      "  32545 16\n",
      "  44869 17\n",
      "  11850 18\n",
      "  43878 19\n",
      "  53368 2\n",
      "  15499 20\n",
      "   7394 21\n",
      "  14746 22\n",
      "  43034 3\n",
      "  27157 4\n",
      "  30758 5\n",
      "  33017 6\n",
      "  32736 7\n",
      "  24372 8\n",
      "  26262 9\n",
      "      1 GL000009.2\n",
      "      4 GL000194.1\n",
      "      6 GL000195.1\n",
      "      4 GL000205.2\n",
      "     18 GL000213.1\n",
      "      1 GL000218.1\n",
      "      4 GL000219.1\n",
      "     57 KI270711.1\n",
      "      2 KI270713.1\n",
      "      5 KI270721.1\n",
      "      3 KI270726.1\n",
      "     23 KI270727.1\n",
      "     42 KI270728.1\n",
      "      1 KI270731.1\n",
      "     33 KI270734.1\n",
      "     13 MT\n",
      "  22766 X\n",
      "   1538 Y\n"
     ]
    }
   ],
   "source": [
    "!grep 'gene_biotype \"protein_coding\"' ../homework-01/human.genes.gtf | bioawk -c gff '$3==\"CDS\"{print$1}' | sort  | uniq -c"
   ]
  },
  {
   "cell_type": "markdown",
   "metadata": {},
   "source": [
    "### Question #4\n",
    "How many lines in the chr22 file have exactly 15 cytosines?\n",
    "Show your work by providing the command(s) you used."
   ]
  },
  {
   "cell_type": "code",
   "execution_count": 6,
   "metadata": {},
   "outputs": [
    {
     "name": "stdout",
     "output_type": "stream",
     "text": [
      "40764\n"
     ]
    }
   ],
   "source": [
    "!grep -v '^>' chr22.fa | grep -ion 'c' | sort | uniq -c | awk '$1 == 15' | wc -l"
   ]
  },
  {
   "cell_type": "markdown",
   "metadata": {},
   "source": [
    "### Question #5\n",
    "How many lines in the chr22 file have >=15 cytosines? Note: checkout the -n option for the sort command.\n",
    "Show your work by providing the command(s) you used."
   ]
  },
  {
   "cell_type": "code",
   "execution_count": 7,
   "metadata": {},
   "outputs": [
    {
     "name": "stdout",
     "output_type": "stream",
     "text": [
      "190057\n"
     ]
    }
   ],
   "source": [
    "!grep -v '^>' chr22.fa | grep -ion 'c' | sort | uniq -c | awk '$1 >= 15' | wc -l"
   ]
  },
  {
   "cell_type": "markdown",
   "metadata": {},
   "source": [
    "### Question #6\n",
    "What fraction of chr22 is unknown sequence (Ns?)\n",
    "Show your work by providing the command(s) you used."
   ]
  },
  {
   "cell_type": "code",
   "execution_count": 8,
   "metadata": {},
   "outputs": [
    {
     "name": "stdout",
     "output_type": "stream",
     "text": [
      "11658691\n"
     ]
    }
   ],
   "source": [
    "!grep -v '^>' chr22.fa | grep -io 'N' | wc -l"
   ]
  },
  {
   "cell_type": "code",
   "execution_count": 9,
   "metadata": {},
   "outputs": [
    {
     "name": "stdout",
     "output_type": "stream",
     "text": [
      "50818476\n"
     ]
    }
   ],
   "source": [
    "!bioawk -c fastx '{print length}' chr22.fa"
   ]
  },
  {
   "cell_type": "markdown",
   "metadata": {},
   "source": [
    "### Question #7\n",
    "Restriction enzymes cleave DNA molecules at or near a specific sequence of bases. For example, the HindIII (Hin D 3) enzyme cuts at the \"/\" in this motif: 5'A/AGCTT3'.\n",
    "How many perfectly matching HindIII restriction enzyme cut sites are there on chr22? Don't worry about sites that span two lines - just care about sites that are fully contained on a single line."
   ]
  },
  {
   "cell_type": "code",
   "execution_count": 10,
   "metadata": {},
   "outputs": [
    {
     "name": "stdout",
     "output_type": "stream",
     "text": [
      "7802\n"
     ]
    }
   ],
   "source": [
    "!grep -v '^>' chr22.fa | grep -oi 'AAGCTT' | wc -l"
   ]
  }
 ],
 "metadata": {
  "kernelspec": {
   "display_name": "plant_bioinfo",
   "language": "python",
   "name": "python3"
  },
  "language_info": {
   "codemirror_mode": {
    "name": "ipython",
    "version": 3
   },
   "file_extension": ".py",
   "mimetype": "text/x-python",
   "name": "python",
   "nbconvert_exporter": "python",
   "pygments_lexer": "ipython3",
   "version": "3.11.13"
  }
 },
 "nbformat": 4,
 "nbformat_minor": 4
}
