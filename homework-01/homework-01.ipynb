{
 "cells": [
  {
   "cell_type": "markdown",
   "metadata": {},
   "source": [
    "**Author:** Noureddine IDALI\n",
    "**Date:** 2025-07-19\n",
    "\n",
    "**Note:** This notebook uses external tools that may require installation. Please see the `DEPENDENCIES.md`."
   ]
  },
  {
   "cell_type": "markdown",
   "metadata": {},
   "source": [
    "# Homework #1"
   ]
  },
  {
   "cell_type": "markdown",
   "metadata": {},
   "source": [
    "## Setup"
   ]
  },
  {
   "cell_type": "markdown",
   "metadata": {},
   "source": [
    "For this homework, we will learn a bit about protein coding genes and transcripts in the human genome by working with a [GTF](https://www.ensembl.org/info/website/upload/gff.html) file from Ensembl that describes all of the protein coding and non coding genes that have been annotated for human. Now, we know that most have more than one isoform, and accordingly, this GTF reports information about the exons, introns, and UTRs of each transcript for each gene. But first, a couple of warm-up questions."
   ]
  },
  {
   "cell_type": "markdown",
   "metadata": {},
   "source": [
    "### Question #1"
   ]
  },
  {
   "cell_type": "markdown",
   "metadata": {},
   "source": [
    "Create a new directory in your home directory called homework-01.\n",
    "Navigate into that directory.\n",
    "Show your work by providing the command you used."
   ]
  },
  {
   "cell_type": "code",
   "execution_count": null,
   "metadata": {},
   "outputs": [],
   "source": [
    "!mkdir homework-01"
   ]
  },
  {
   "cell_type": "markdown",
   "metadata": {},
   "source": [
    "### Question #2"
   ]
  },
  {
   "cell_type": "markdown",
   "metadata": {},
   "source": [
    "Using a UNIX pipe, write a command that counts how many directories are in your current working directory.\n",
    "\n",
    "Show your work by providing the command you used."
   ]
  },
  {
   "cell_type": "code",
   "execution_count": null,
   "metadata": {},
   "outputs": [],
   "source": [
    "!eza -lD"
   ]
  },
  {
   "cell_type": "markdown",
   "metadata": {},
   "source": [
    "### Question #3 & #4"
   ]
  },
  {
   "cell_type": "markdown",
   "metadata": {},
   "source": [
    "Unix computers have a convenient file located at `/usr/share/dict/words` that stores all (or at least the majority) of words in the English language. What is the 55,000th word in that file? Show your work by providing the command you used.\n",
    "\n",
    "Using a Unix command, how many visible and imvisible characters are in the 55,000th word? Show your work by providing the command you used."
   ]
  },
  {
   "cell_type": "markdown",
   "metadata": {},
   "source": [
    "**Skipped**"
   ]
  },
  {
   "cell_type": "markdown",
   "metadata": {},
   "source": [
    "### Collecting the data we will use for the rest of this homework"
   ]
  },
  {
   "cell_type": "markdown",
   "metadata": {},
   "source": [
    "Let's start by downloading this GTF file from Ensemble using a new UNIX command called `curl`. [curl](https://www.tutorialspoint.com/unix_commands/curl.htm) transfers data from a remote file (i.e., on an FTP or HTTP site) directly to your terminal. In other words, it is the command line way of going to a website and downloading something. This command is super useful because most real world analyses require getting data or annotations from other resources such as the UCSC genome browser.\n",
    "\n",
    "So, you must start by downloading this file. Note that we use the `>` to redirect the data retrieved by `curl` into a new file called `human.genes.gtf.gz`"
   ]
  },
  {
   "cell_type": "code",
   "execution_count": 14,
   "metadata": {},
   "outputs": [
    {
     "name": "stdout",
     "output_type": "stream",
     "text": [
      "zsh:1: no such file or directory: human.genes.gtf.gz\n"
     ]
    }
   ],
   "source": [
    "!curl ftp://ftp.ensembl.org/pub/release-87/gtf/homo_sapiens/Homo_sapiens.GRCh38.87.gtf.gz > human.genes.gtf.gz"
   ]
  },
  {
   "cell_type": "markdown",
   "metadata": {},
   "source": [
    "Now, notice that the filename ends in `.gz`. This means that it is compressed with a program called `gzip`. If you have ever used the compression utilities on your Mac or Windows machine, you have likely seen files that end with `.zip`. This is the exact same concept, but `.gz` file were compressed with a slightly different tool. So, before we get started, we have to first `decompress` this file into a plain old text file (in GTF format as we discuss in class) that we can easily work with using the UNIX commands we have learned thus far. We do this as follows using yet another new UNIX command called `gzip`. The `-d` option tells `gzip` to decompress the file."
   ]
  },
  {
   "cell_type": "code",
   "execution_count": null,
   "metadata": {},
   "outputs": [],
   "source": [
    "!gzip -d human.genes.gtf.gz"
   ]
  },
  {
   "cell_type": "markdown",
   "metadata": {},
   "source": [
    "### Question #5"
   ]
  },
  {
   "cell_type": "markdown",
   "metadata": {},
   "source": [
    "How many GTF *data* lines are in this file? Note that the first few lines in the file beginning with `#` are so-called `header` lines describing thing like the creation date, the genome version (more on that later in the course), etc. Header lines should not be counted as *data* lines.\n",
    "\n",
    "Show your work by providing the command you used."
   ]
  },
  {
   "cell_type": "code",
   "execution_count": null,
   "metadata": {},
   "outputs": [],
   "source": [
    "!grep -cv '^#' human.genes.gtf"
   ]
  },
  {
   "cell_type": "markdown",
   "metadata": {},
   "source": [
    "### Question #6"
   ]
  },
  {
   "cell_type": "markdown",
   "metadata": {},
   "source": [
    "How many GTF *data* lines are in this file for *protein coding genes*? Note that entries (lines in the file for protein coding genes will contain the following text: `gene_biotype \"protein_coding\"`)\n",
    "\n",
    "Use the string above with a command you have learned to find such lines.\n",
    "\n",
    "Hint: the UNIX pipe may come in handy here...\n",
    "\n",
    "Show your work by providing the *single* command you used."
   ]
  },
  {
   "cell_type": "code",
   "execution_count": null,
   "metadata": {},
   "outputs": [],
   "source": [
    "!grep -c 'gene_biotype \"protein_coding\"' human.genes.gtf"
   ]
  },
  {
   "cell_type": "markdown",
   "metadata": {},
   "source": [
    "### Question #7"
   ]
  },
  {
   "cell_type": "markdown",
   "metadata": {},
   "source": [
    "How many GTF *data* lines are in this file for *exons* from *protein coding genes*? \n",
    "\n",
    "Show your work by providing the *single* command you used."
   ]
  },
  {
   "cell_type": "code",
   "execution_count": null,
   "metadata": {},
   "outputs": [],
   "source": [
    "!grep 'gene_biotype \"protein_coding\"' human.genes.gtf | bioawk -c gff '$3==\"exon\"{print$0}' | wc -l"
   ]
  },
  {
   "cell_type": "markdown",
   "metadata": {},
   "source": [
    "### Question #8"
   ]
  },
  {
   "cell_type": "markdown",
   "metadata": {},
   "source": [
    "How many [CDS](https://www.biostars.org/p/65162/) exons (`CDS` in column 3) from *protein coding genes* exist on per each chromosome (column 1 in the GTF file)? That is, the count per chromsome.\n",
    "\n",
    "Show your work by providing the command or commands you used."
   ]
  },
  {
   "cell_type": "code",
   "execution_count": null,
   "metadata": {},
   "outputs": [],
   "source": [
    "!grep 'gene_biotype \"protein_coding\"' human.genes.gtf | bioawk -c gff '$3==\"CDS\"{print$1}' | sort | uniq -c"
   ]
  },
  {
   "cell_type": "markdown",
   "metadata": {},
   "source": [
    "### Question #9"
   ]
  },
  {
   "cell_type": "markdown",
   "metadata": {},
   "source": [
    "Explain how you might design an analysis of this file that would reveal how many distinct protein coding genes there are in the human genome. Hint: you may not have learned all of the command you might need - the point is to think about what what you *could* do with the commands you know of and what limitations would have to be addressed."
   ]
  },
  {
   "cell_type": "code",
   "execution_count": null,
   "metadata": {},
   "outputs": [],
   "source": [
    "!grep 'gene_biotype \"protein_coding\"' human.genes.gtf | bioawk -c gff '{print $9}'  | awk -F ';' '{print $1}' | sort -u | wc -l"
   ]
  }
 ],
 "metadata": {
  "kernelspec": {
   "display_name": "plant_bioinfo",
   "language": "python",
   "name": "python3"
  },
  "language_info": {
   "codemirror_mode": {
    "name": "ipython",
    "version": 3
   },
   "file_extension": ".py",
   "mimetype": "text/x-python",
   "name": "python",
   "nbconvert_exporter": "python",
   "pygments_lexer": "ipython3",
   "version": "3.11.13"
  }
 },
 "nbformat": 4,
 "nbformat_minor": 4
}
